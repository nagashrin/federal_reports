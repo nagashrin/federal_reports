{
 "cells": [
  {
   "cell_type": "markdown",
   "metadata": {},
   "source": [
    "# Section1: Adult Data (T2)"
   ]
  },
  {
   "cell_type": "code",
   "execution_count": 92,
   "metadata": {},
   "outputs": [],
   "source": [
    "import pandas as pd\n",
    "adults_201907 = pd.read_csv('Data/worc-adults.csv')\n",
    "df = pd.DataFrame(adults_201907)"
   ]
  },
  {
   "cell_type": "code",
   "execution_count": 93,
   "metadata": {},
   "outputs": [],
   "source": [
    "# .get is similar to .replace function but faster\n",
    "\n",
    "# Item 30: family affiliation\n",
    "df['family_affiliation'] = df['family_affiliation'].apply({1:'Member of the eligible family receiving assistance',\n",
    "                                                                                2:'Parent of minor child in the eligible family receiving assistance',\n",
    "                                                                                3:'Caretaker relative of minor child in the eligible family receiving assistance',\n",
    "                                                                                4:'Minor sibling of child in the eligible family receiving assistance',\n",
    "                                                                                5:'Person whose income or resources are considered in determining eligibility'}.get)\n"
   ]
  },
  {
   "cell_type": "code",
   "execution_count": 94,
   "metadata": {},
   "outputs": [],
   "source": [
    "# Item 31: non custodial parent \n",
    "df['ncp'] = df['ncp'].apply({1:'Yes, a noncustodial parent',\n",
    "                                                  2:'Not a noncustodial parent'}.get)"
   ]
  },
  {
   "cell_type": "code",
   "execution_count": 95,
   "metadata": {},
   "outputs": [],
   "source": [
    "# Item 34a: Hispanic or Latino\n",
    "df['item34a'] = df['item34a'].apply({1:'Yes, Hispanic or Latino',\n",
    "                                                          2:'Not Hispanic or Latino'}.get)"
   ]
  },
  {
   "cell_type": "code",
   "execution_count": 96,
   "metadata": {},
   "outputs": [],
   "source": [
    "# Item 34b: American Indian or Alaska Native\n",
    "df['item34b'] = df['item34b'].apply({1:'Yes, American Indian or Alaska Native',\n",
    "                                                          2:'Not American Indian or Alaska Native'}.get)"
   ]
  },
  {
   "cell_type": "code",
   "execution_count": 97,
   "metadata": {},
   "outputs": [],
   "source": [
    "# Item 34c: Black or African American\n",
    "df['item34c'] = df['item34c'].apply({1:'Yes, Asian',\n",
    "                                                           2:'Not Asian'}.get)"
   ]
  },
  {
   "cell_type": "code",
   "execution_count": 98,
   "metadata": {},
   "outputs": [],
   "source": [
    "# Item 34d: Black or African American\n",
    "df['item34d'] = df['item34d'].apply({1:'Yes, Black or African American',\n",
    "                                                           2:'Not Black or African American'}.get)\n"
   ]
  },
  {
   "cell_type": "code",
   "execution_count": 99,
   "metadata": {},
   "outputs": [],
   "source": [
    "# Item 34e: Native HAWAIIAN OR OTHER PACIFIC ISLANDER\n",
    "df['item34e'] = df['item34e'].apply({1:'Yes, Native Hawaiian or Pacific Islander',\n",
    "                                                           2:'Not Native Hawaiian or Pacific Islander'}.get)"
   ]
  },
  {
   "cell_type": "code",
   "execution_count": 100,
   "metadata": {},
   "outputs": [],
   "source": [
    "# Item 34f: White\n",
    "df['item34f'] = df['item34f'].apply({1:'Yes, White',\n",
    "                                                           2:'Not White'}.get)\n"
   ]
  },
  {
   "cell_type": "code",
   "execution_count": 101,
   "metadata": {},
   "outputs": [],
   "source": [
    "# Gender\n",
    "df['gender'] = df['gender'].apply({1:'Male',\n",
    "                                2:'Female'}.get)\n",
    "                                            "
   ]
  },
  {
   "cell_type": "code",
   "execution_count": 102,
   "metadata": {},
   "outputs": [],
   "source": [
    "# Item 36a: Receives Federal Disability Insurance Benefits Under the Social Security \n",
    "#OASDI Program (Title II of the Social Security Act): \n",
    "\n",
    "df['item36a'] = df['item36a'].apply({1:'Yes, received Federal disability insurance',\n",
    "                                    2:'Does not receive Federal disability insurance'}.get)"
   ]
  },
  {
   "cell_type": "code",
   "execution_count": 103,
   "metadata": {},
   "outputs": [],
   "source": [
    "# Item 36b: Receives Benefits Based on Federal Disability Status Under Non-Social\n",
    "#Security Act Programs:\n",
    "\n",
    "df['item36b'] = df['item36b'].apply({1:' Yes, received benefits based on Federal disability status',\n",
    "                                    2:'Does not receive Federal disability status'}.get)"
   ]
  },
  {
   "cell_type": "code",
   "execution_count": 104,
   "metadata": {},
   "outputs": [],
   "source": [
    "# Item 36c: Receives Aid to the Permanently and Totally Disabled Under Title XIV-APDT\n",
    "#of the Social Security Act:\n",
    "\n",
    "df['item36c'] = df['item36c'].apply({1:' Yes, received aid under Title XIV-APDT',\n",
    "                                      2:'Does not receive aid under Title XIV-APDT'}.get)"
   ]
  },
  {
   "cell_type": "code",
   "execution_count": 105,
   "metadata": {},
   "outputs": [],
   "source": [
    "# Item 36d: Receives Aid to the Aged, Blind, and Disabled Under Title XVI-AABD of the\n",
    "#Social Security Act:\n",
    "\n",
    "df['item36d'] = df['item36d'].apply({1:'Yes, received aid under Title XVI-AABD',\n",
    "                                    2:'Does not received aid under Title XVI-AABD'}.get)"
   ]
  },
  {
   "cell_type": "code",
   "execution_count": 106,
   "metadata": {},
   "outputs": [],
   "source": [
    "# Item 36e: Receives Supplemental Security Income Under Title XVI-SSI of the Social\n",
    "#Security Act:\n",
    "\n",
    "df['item36e'] = df['item36e'].apply({1:'Yes, received aid under Title XVI-SSI',\n",
    "                                     2:'Does not receive aid under Title XVI-SSI'}.get)"
   ]
  },
  {
   "cell_type": "code",
   "execution_count": 107,
   "metadata": {},
   "outputs": [],
   "source": [
    "# Marital Status\n",
    "\n",
    "df['marital_status'] = df['marital_status'].apply({1:'Single, never married',\n",
    "                                                  2:'Married, living together',\n",
    "                                                  3:'Married, but separated',\n",
    "                                                  4:'Widowed',\n",
    "                                                  5:'Divorced'}.get)"
   ]
  },
  {
   "cell_type": "code",
   "execution_count": 108,
   "metadata": {},
   "outputs": [],
   "source": [
    "# Relation to head of household\n",
    "df['relation_to_hoh'] = df['relation_to_hoh'].apply({1:'Head-of-household',\n",
    "                                                     2:'Spouse',\n",
    "                                                     3:'Parent',\n",
    "                                                     4:'Daughter or son',\n",
    "                                                     5:'Stepdaughter or stepson',\n",
    "                                                     6:'Grandchild or great grandchild',\n",
    "                                                     7:'Other related person (brother, niece, cousin)',\n",
    "                                                     8:'Foster child',\n",
    "                                                     9:'Unrelated child',\n",
    "                                                     10:'Unrelated child'}.get)"
   ]
  },
  {
   "cell_type": "code",
   "execution_count": 109,
   "metadata": {},
   "outputs": [],
   "source": [
    "# Parent With Minor Child In the Family\n",
    "\n",
    "df['parent_with_minor'] = df['parent_with_minor'].apply({1:'Yes, a parent with a minor child in the family and used in two-parent participation rate',\n",
    "                                                        2:'Yes, a parent with a minor child in the family, but not used in two-parent participation rate',\n",
    "                                                        3:'Not Parent with minor child in the family'}.get)"
   ]
  },
  {
   "cell_type": "code",
   "execution_count": 110,
   "metadata": {},
   "outputs": [],
   "source": [
    "# Needs of a Pregnant Woman\n",
    "\n",
    "df['pregnant_wom_need'] = df['pregnant_wom_need'].apply({1:'Yes, additional needs associated with pregnancy are considered in determining the amount of assistance',\n",
    "                                                        2:'Not pregnant'}.get)"
   ]
  },
  {
   "cell_type": "code",
   "execution_count": 111,
   "metadata": {},
   "outputs": [],
   "source": [
    "# Educational Level\n",
    "\n",
    "df['edu_level'].astype(str)\n",
    "df['edu_level'] = df['edu_level'].mask(\n",
    "    df['edu_level']<=11,'Grade level completed in primary/secondary school including secondary level vocational school or adult high school').mask(\n",
    "    df['edu_level'] == 12, 'High school diploma, GED, or National External Diploma Program').mask(\n",
    "    df['edu_level'] == 13, 'Awarded Associate Degree').mask(\n",
    "    df['edu_level'] == 14, 'Awarded Bachelors Degree').mask(\n",
    "    df['edu_level'] == 15, 'Awarded graduate degree (Masters or higher)').mask(\n",
    "    df['edu_level'] == 16, 'Other credentials (degree, certificate, diploma, etc.)').mask(\n",
    "    df['edu_level'] == 98, 'No formal education').mask(\n",
    "    df['edu_level'] == 99, 'Unknown')"
   ]
  },
  {
   "cell_type": "code",
   "execution_count": 112,
   "metadata": {},
   "outputs": [],
   "source": [
    "# Citizenship/Alienage\n",
    "\n",
    "df['citizenship'] = df['citizenship'].apply({1:'U.S. citizen, including naturalized citizens',\n",
    "                                            2:'Qualified alien',\n",
    "                                            3:'Unknown'}.get)"
   ]
  },
  {
   "cell_type": "code",
   "execution_count": 113,
   "metadata": {},
   "outputs": [],
   "source": [
    "# Cooperation with Child Support\n",
    "\n",
    "df['coop_child_supp'] = df['coop_child_supp'].apply({1:' Yes, adult (or minor child head-of-household) has cooperated with child support',\n",
    "                                                   2:'Not cooperated with child support',\n",
    "                                                   3:'Not applicable'}.get)"
   ]
  },
  {
   "cell_type": "code",
   "execution_count": 114,
   "metadata": {},
   "outputs": [],
   "source": [
    "# Is Current Month Exempt from the State's (Tribe's) Time Limit\n",
    "\n",
    "df['exemp_state_limit'] = df['exemp_state_limit'].apply({1:' Yes, adult (or minor child head-of-household) is exempt from the States (Tribes) time limit for the reporting month',\n",
    "                                                        2:'Not exempt from states time limit for the reporting month',\n",
    "                                                        3:'Not applicable, no State (Tribal) time limit'}.get)"
   ]
  },
  {
   "cell_type": "code",
   "execution_count": 115,
   "metadata": {},
   "outputs": [],
   "source": [
    "# Employment Status\n",
    "\n",
    "df['employ_status'] = df['employ_status'].apply({1:'Employed',\n",
    "                                                2:'Unemployed, looking for work',\n",
    "                                                3:'Not in labor force (i.e., unemployed, not looking for work, includes discouraged workers)'}.get)"
   ]
  },
  {
   "cell_type": "code",
   "execution_count": 116,
   "metadata": {},
   "outputs": [],
   "source": [
    "# Work-Eligible Individual Indicator\n",
    "\n",
    "df['work_elig_ind'] = df['work_elig_ind'].apply({1:'Yes, an adult (or minor child head-of-household) receiving assistance',\n",
    "                                                2:'Yes, a non-recipient parent due to a sanction',\n",
    "                                                3:'Yes, a non-recipient parent due to a time limit',\n",
    "                                                4:'Yes, a non-recipient parent receiving SSI, SSDI, or Adult Program assistance (aid to the needy aged, blind and disabled in the Territories) or a recipient parent receiving SSDI; and State or Territory opts to include',\n",
    "                                                5:'Yes, a non-recipient parent due to other reasons',\n",
    "                                                6:'No, a non-recipient, but not a parent',\n",
    "                                                7:'No, an ineligible non-citizen due to his/her immigration status',\n",
    "                                                8:'No, a non-recipient parent receiving SSI or Adult Program assistance (aid to the needy aged, blind and disabled) in the Territories',\n",
    "                                                9:'No, parent caring for a disabled family member in the home',\n",
    "                                                10:'No, a parent receiving SSDI (and State or Territory opts to exclude)',\n",
    "                                                11:'No, a non-recipient, noncustodial parent',\n",
    "                                                12:'No, a deceased individual who died in a month preceding the report month and, due to State requirements to provide timely notification to the family before reducing the grant or other reasons (e.g., the family\\\n",
    "                                                 failed to report the death to the TANF agency), the family’s grant for the report month included the deceased individual’s needs'}.get)\n",
    "                                                "
   ]
  },
  {
   "cell_type": "code",
   "execution_count": 117,
   "metadata": {},
   "outputs": [],
   "source": [
    "# Work Participation Status\n",
    "\n",
    "df['work_partic_status'] = df['work_partic_status'].apply({1:'Disregarded from participation rate, single custodial parent with child under 12 months. There is a 12-month lifetime limit on disregarding a family from the all families work participation rate (i.e., the overall work participation rate) for this reason.',\n",
    "                                                          2:'Disregarded from participation rate because both of the following apply: required to participate, but not participating; and subject to sanction for refusing to participate in work activities for the reporting month, but not subject to sanction for more than 3 months within the preceding 12-month period (Note: “subjected to a sanction” for refusing to participate in work activities means the State has actually imposed a penalty to reduce or terminate assistance. During a conciliation or notice period, before the State actually reduces or terminates the family’s grant, a family is not “subjected to a sanction.”)',\n",
    "                                                          3:'Code no longer in use',\n",
    "                                                          4:'Code no longer in use',\n",
    "                                                          5:'Disregarded from participation rate based on participation in a Tribal Work Program',\n",
    "                                                          6:'Exempt, single custodial parent with child under age 6 and child care unavailable',\n",
    "                                                          7:'Exempt, disabled (not using an extended definition under a State waiver)',\n",
    "                                                          8:'Exempt, caring for a severely disabled child (not using an extended definition under a State waiver).',\n",
    "                                                          9:'Exempt, under a federally recognized good cause domestic violence waiver',\n",
    "                                                          10:'Exempt, State waiver.',\n",
    "                                                          11:'Exempt, other.',\n",
    "                                                          12:'Required to participate, but not participating; subject to sanction for refusing to participate in work activities for the reporting month; and subject to such a sanction for more than 3 months within the preceding 12-month period',\n",
    "                                                          13:'Required to participate, but not participating; and subject to sanction for refusing to participate in work activities for the reporting month, but not subject to such a sanction for more than 3 months within the preceding 12-month period.',\n",
    "                                                          14:'Required to participate, but not participating; and not subject to a work sanction for the reporting month',\n",
    "                                                          15:'Deemed engaged in work -- single teen head-of-household or married teen who maintains satisfactory school attendance.',\n",
    "                                                          16:'Deemed engaged in work -- single teen head-of-household or married teen who participates in education directly related to employment for an average of at least 20 hours per week during the reporting month',\n",
    "                                                          17:'Deemed engaged in work -- parent or relative (who is the only parent or caretaker relative in the family) with child under age 6 and parent engaged in core work activities for at least 20 hours per week. 18 = Required to participate and participating, but not meeting minimum participation requirements.',\n",
    "                                                          18:'Required to participate and participating, but not meeting minimum participation requirements',\n",
    "                                                          19:'Required to participate and meeting minimum participation requirements',\n",
    "                                                          99:'Not applicable (e.g., not a work-eligible individual; person living in household and whose income or resources are counted in determining eligibility for or the amount of assistance for the family receiving assistance, but is not in the eligible family receiving assistance or noncustodial parent that the State opted to exclude in determining participation rate)'}.get)"
   ]
  },
  {
   "cell_type": "code",
   "execution_count": 131,
   "metadata": {},
   "outputs": [],
   "source": [
    "df = df.rename({'item36a':'Receives Federal Disability Insurance Benefits Under the Social Security OASDI Program (Title II of the Social Security Act',\n",
    "          'item36b':'Receives Benefits Based on Federal Disability Status Under Non-Social Security Act Programs',\n",
    "          'item36c':'Receives Aid to the Permanently and Totally Disabled Under Title XIV-APDT of the Social Security Act',\n",
    "          'item36d':'Receives Aid to the Aged, Blind, and Disabled Under Title XVI-AABD of the Social Security Act',\n",
    "          'item36e':'Receives Supplemental Security Income Under Title XVI-SSI of the Social Security Act',\n",
    "          'item66a':'Unearned income/ Earned incometax credit',\n",
    "          'item66b':'Unearned income/social security',\n",
    "          'item66c':'Unearned income/SSI',\n",
    "          'item66d':'Unearned income/Workers compensation',\n",
    "          'item66e':'Other unearned income'},axis='columns')"
   ]
  },
  {
   "cell_type": "code",
   "execution_count": 138,
   "metadata": {},
   "outputs": [],
   "source": [
    "df2 = df.copy()\n",
    "writer = pd.ExcelWriter('Data/t_worc_adults.xlsx')\n",
    "df2.to_excel(writer, index = False)\n",
    "writer.save()"
   ]
  },
  {
   "cell_type": "code",
   "execution_count": null,
   "metadata": {},
   "outputs": [],
   "source": []
  },
  {
   "cell_type": "code",
   "execution_count": null,
   "metadata": {},
   "outputs": [],
   "source": []
  },
  {
   "cell_type": "code",
   "execution_count": null,
   "metadata": {},
   "outputs": [],
   "source": []
  }
 ],
 "metadata": {
  "kernelspec": {
   "display_name": "Python 3",
   "language": "python",
   "name": "python3"
  },
  "language_info": {
   "codemirror_mode": {
    "name": "ipython",
    "version": 3
   },
   "file_extension": ".py",
   "mimetype": "text/x-python",
   "name": "python",
   "nbconvert_exporter": "python",
   "pygments_lexer": "ipython3",
   "version": "3.6.4rc1"
  }
 },
 "nbformat": 4,
 "nbformat_minor": 2
}
