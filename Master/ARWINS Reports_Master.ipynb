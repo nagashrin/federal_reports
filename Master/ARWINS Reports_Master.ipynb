{
 "cells": [
  {
   "cell_type": "code",
   "execution_count": 16,
   "metadata": {},
   "outputs": [],
   "source": [
    "import csv\n",
    "import glob\n",
    "import shutil\n",
    "import os\n",
    "import pandas as pd\n",
    "import openpyxl\n",
    "import datetime\n",
    "from datetime import date, timedelta\n",
    "\n",
    "# Create a folder with format (11-November 2018) in the directory \n",
    "now = datetime.datetime.now()\n",
    "prev = date.today().replace(day=1) - timedelta(days=1)\n",
    "int_prev_month = prev.month\n",
    "str_prev_month = prev.strftime('%B')\n",
    "dir_name = 'S://TANF Reports//!2019 TANF Reports//'\n",
    "os.chdir(dir_name)\n",
    "\n",
    "\n",
    "folder_name = (str(int_prev_month) + ('-') + (str_prev_month) + ' ' + now.strftime('%Y')) #format ('11-November 2018')\n",
    "if not os.path.exists(folder_name):\n",
    "    os.makedirs(folder_name)\n",
    "\n",
    "\n",
    "# Move all .csv files in Downloads folder to S:drive(destination) folder\n",
    "path = 'C://Users//nnagaraj//Downloads'\n",
    "os.chdir(path)\n",
    "source = os.listdir(path)\n",
    "destination = os.path.join('S://TANF Reports//!2019 TANF Reports', folder_name )\n",
    "\n",
    "for files in source:  \n",
    "    if files.endswith(\".csv\"):\n",
    "        shutil.move(files, destination)  \n",
    "        \n",
    "\n",
    "# Convert all .csv files in S:drive to Excel        \n",
    "os.chdir(destination)        \n",
    "for filename in os.listdir(destination):\n",
    "    if filename.endswith(\".csv\"):\n",
    "        df = pd.read_csv(os.path.join(destination, filename))\n",
    "        #df['Job Ret Date'] = pd.to_datetime(df['Job Ret Date']) # for JRM Mailing & Universe\n",
    "        #df['Begin Date'] = pd.to_datetime(df['Begin Date']) # for JRM Universe\n",
    "        #df = df.sort_values(by = ['local office', 'Name'])\n",
    "        #df = df.sort_values(by = ['local office', 'Last Name']) # for TEA Adults with Assigned Activity\n",
    "        x = filename.replace(\"-\", \" \") + ' - ' + str_prev_month + ' ' + now.strftime('%Y').title()\n",
    "        writer = pd.ExcelWriter(str(x).title().replace(\".Csv\", \"\")+\".xlsx\")\n",
    "        df.to_excel(writer, sheet_name = prev.strftime('%B'), index = False, header = filename)\n",
    "        writer.save()\n",
    "        continue\n",
    "    else:\n",
    "        continue       \n",
    "\n",
    "# Now that all csv have been converted to excel, delete all the csv files in the directory        \n",
    "files = [file for file in glob.glob(\"*.csv\") if not file.endswith(\"0.csv\")]\n",
    "for file in files:\n",
    "    os.remove(file)"
   ]
  },
  {
   "cell_type": "markdown",
   "metadata": {},
   "source": [
    "# Closure Due to Employment by County\n",
    "\n",
    "### Merge Closure due to employment and Closure due to employment with address "
   ]
  },
  {
   "cell_type": "code",
   "execution_count": 10,
   "metadata": {
    "scrolled": false
   },
   "outputs": [],
   "source": [
    "import csv\n",
    "import pandas as pd\n",
    "now = datetime.datetime.now()\n",
    "prev = date.today().replace(day=1) - timedelta(days=1)\n",
    "int_prev_month = prev.month\n",
    "str_prev_month = prev.strftime('%B')\n",
    "\n",
    "closure_emp = pd.read_excel('Closures Due To Employment - ' + prev.strftime('%B') + ' ' + now.strftime('%Y') + '.xlsx')\n",
    "closure_emp_add = pd.read_excel('Closures Due To Employment With Address - ' + prev.strftime('%B') + ' ' + now.strftime('%Y') + '.xlsx')\n",
    "\n",
    "df = pd.merge(closure_emp, closure_emp_add, how = 'inner', on = 'County')\n",
    "\n",
    "df = df.drop(['SSN', 'Address 1', 'Address 2', 'Address 3', 'Zip'], axis = 1)\n",
    "\n",
    "\n",
    "# At first use duplicated to check for duplicated values in your dataframe. Then select which columns you want to be changed\n",
    "is_duplicated = df.apply(lambda x: x.duplicated())\n",
    "df_map = df.where(~is_duplicated, \" \")\n",
    "df[['County', '# Closures Due to Employment', 'Total Closures', 'Percentage']] = df_map.drop(['Case No', 'Casehead Name'], axis = 1)\n",
    "df.head(4)\n",
    "\n",
    "# Write created df to excel\n",
    "writer = pd.ExcelWriter('Closures Due to Employment by County' + ' - ' + prev.strftime('%B') + ' ' + now.strftime('%Y') + '.xlsx')\n",
    "df.to_excel(writer, sheet_name = prev.strftime('%B'), index = False)#, header = filename \n",
    "writer.save()\n",
    "\n",
    "\n",
    "# Delete file Closures Due To Employment - December 2018.xlsx\n",
    "os.remove('Closures Due To Employment - ' + str_prev_month + ' ' + now.strftime('%Y') + '.xlsx')"
   ]
  },
  {
   "cell_type": "code",
   "execution_count": 25,
   "metadata": {},
   "outputs": [],
   "source": [
    "\"\"\"\n",
    "writer = pd.ExcelWriter('Closure due to Emp.xlsx')\n",
    "df.to_excel(writer, 'Closure due to emp')\n",
    "writer.save()\n",
    "\"\"\""
   ]
  },
  {
   "cell_type": "code",
   "execution_count": null,
   "metadata": {},
   "outputs": [],
   "source": [
    "\"\"\"\n",
    "is_duplicated = df.apply(lambda x : x.duplicated())\n",
    " df_map = df.where(~is_duplicated, '')\n",
    " df[['A','B']] = df_map.drop('C', axis=1)\n",
    "\n",
    "##https://datascience.stackexchange.com/questions/36141/drop-duplicate-but-conserve-data-in-other-columns-with-pandas/37013#37013\n",
    ">>> writer = pd.ExcelWriter('output.xlsx')\n",
    ">>> df1.to_excel(writer,'Sheet1')\n",
    ">>> df2.to_excel(writer,'Sheet2')\n",
    ">>> writer.save()\n",
    "\"\"\""
   ]
  },
  {
   "cell_type": "markdown",
   "metadata": {},
   "source": [
    "# Extracting Deferred, Exempt and Sanction from Disaggrigated file in S:drive"
   ]
  },
  {
   "cell_type": "code",
   "execution_count": 13,
   "metadata": {},
   "outputs": [],
   "source": [
    "import os\n",
    "import pandas as pd\n",
    "import openpyxl\n",
    "import datetime\n",
    "from datetime import date, timedelta\n",
    "\n",
    "now = datetime.datetime.now()\n",
    "prev = date.today().replace(day=1) - timedelta(days=1)\n",
    "int_prev_month = prev.month\n",
    "str_prev_month = prev.strftime('%B')\n",
    "\n",
    "folder_name = (str(int_prev_month) + ('-') + (str_prev_month) + ' ' + now.strftime('%Y')) #format ('11-November 2018')\n",
    "destination = os.path.join('S://TANF Reports//!2019 TANF Reports', folder_name )\n",
    "\n",
    "\n",
    "os.chdir(destination)\n",
    "os.getcwd()\n",
    "\n",
    "\n",
    "def riter(x):\n",
    "    x.to_excel(writer, sheet_name = prev.strftime('%B'), index = False)\n",
    "    writer.save()\n",
    "    \n",
    "df = pd.read_excel('Dissaggregated Def_Xmpt_Sanc By Local Office'+ ' - ' + str_prev_month + ' ' + now.strftime('%Y').title() + '.xlsx')\n",
    "\n",
    "    \n",
    "sanction = df[df['Deferred / Exempt / Sanction'] == 'Sanction']\n",
    "sanction = sanction.sort_values(by = ['Local Office'])\n",
    "writer = pd.ExcelWriter('TEA Adults Sanction by Local Office' + ' - ' + str_prev_month + ' ' + now.strftime('%Y').title() + '.xlsx')    \n",
    "riter(sanction)\n",
    "\n",
    "exempt = df[df['Deferred / Exempt / Sanction'] == 'Exempt']\n",
    "exempt = exempt.sort_values(by = ['Local Office'])\n",
    "writer = pd.ExcelWriter('TEA Adults Exempt by Local Office' + ' - ' + str_prev_month + ' ' + now.strftime('%Y').title() + '.xlsx')\n",
    "riter(exempt)\n",
    "\n",
    "deferred = df[df['Deferred / Exempt / Sanction'] == 'Deferred']\n",
    "deferred = deferred.sort_values(by = ['Local Office'])\n",
    "writer = pd.ExcelWriter('TEA Adults Deferred by Local Office' + ' - ' + str_prev_month + ' ' + now.strftime('%Y').title() + '.xlsx')\n",
    "riter(deferred)\n",
    "\n",
    "# Delete Disaggregated Def_Xmpt_Sanc By Local Office - June 2019.xlsx\n",
    "if os.path.exists('Dissaggregated Def_Xmpt_Sanc By Local Office' + ' - ' + str_prev_month + ' ' + now.strftime('%Y').title() + '.xlsx'):\n",
    "    os.remove('Dissaggregated Def_Xmpt_Sanc By Local Office' + ' - ' + str_prev_month + ' ' + now.strftime('%Y').title() + '.xlsx')\n",
    "else:\n",
    "    print(\"The file does not exist\")\n",
    "\n"
   ]
  },
  {
   "cell_type": "markdown",
   "metadata": {},
   "source": [
    "# Section 3 (Aggregate)\n",
    "### Delete 7 characters starting from T6 and delete any $ over 8 characters, then run the following code"
   ]
  },
  {
   "cell_type": "code",
   "execution_count": 11,
   "metadata": {},
   "outputs": [],
   "source": [
    "from textwrap import wrap\n",
    "t6_2018q4 = '000016120000155700001490000002800000025900000251000013320000129800001239$$$$$$$$000028750000282400002738000000640000006700000063000014810000146000001416000013300000129700001259000062960000619700006082000016150000160400001549000046810000459300004533000000010000000000000002000000010000000100000000000000010000000100000001000003650000032300000288TRAILER1'\n",
    "#wrap(t6_2018q4,8)"
   ]
  },
  {
   "cell_type": "code",
   "execution_count": 1,
   "metadata": {},
   "outputs": [
    {
     "data": {
      "text/plain": [
       "'C:\\\\Cobra\\\\ADWS\\\\py3env'"
      ]
     },
     "execution_count": 1,
     "metadata": {},
     "output_type": "execute_result"
    }
   ],
   "source": [
    "import os\n",
    "os.getcwd()"
   ]
  },
  {
   "cell_type": "code",
   "execution_count": 2,
   "metadata": {},
   "outputs": [],
   "source": [
    "os.chdir('C:\\\\Cobra\\\\ADWS\\\\ARWINS')"
   ]
  },
  {
   "cell_type": "code",
   "execution_count": 3,
   "metadata": {},
   "outputs": [
    {
     "data": {
      "text/plain": [
       "'C:\\\\Cobra\\\\ADWS\\\\ARWINS'"
      ]
     },
     "execution_count": 3,
     "metadata": {},
     "output_type": "execute_result"
    }
   ],
   "source": [
    "os.getcwd()"
   ]
  },
  {
   "cell_type": "code",
   "execution_count": null,
   "metadata": {},
   "outputs": [],
   "source": []
  }
 ],
 "metadata": {
  "kernelspec": {
   "display_name": "Python 3",
   "language": "python",
   "name": "python3"
  },
  "language_info": {
   "codemirror_mode": {
    "name": "ipython",
    "version": 3
   },
   "file_extension": ".py",
   "mimetype": "text/x-python",
   "name": "python",
   "nbconvert_exporter": "python",
   "pygments_lexer": "ipython3",
   "version": "3.6.4rc1"
  }
 },
 "nbformat": 4,
 "nbformat_minor": 2
}
