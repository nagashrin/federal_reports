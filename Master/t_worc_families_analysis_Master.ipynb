{
 "cells": [
  {
   "cell_type": "code",
   "execution_count": 1,
   "metadata": {
    "scrolled": true
   },
   "outputs": [],
   "source": [
    "import pandas as pd\n",
    "import numpy as np\n",
    "import time\n",
    "import os\n",
    "\n",
    "t = time.localtime()\n",
    "timestamp = time.strftime('%y%m%d-%H%M', t)\n",
    "\n",
    "# read excel\n",
    "df = pd.read_excel('H://Current_Working_Folder//Reports Analytics//201905//201905-t_worc_families-20191015_0907.xlsx')\n",
    "\n",
    "# assign path and reporitng month\n",
    "drive = 'H://Current_Working_Folder//Reports Analytics//'\n",
    "reporting_month = str(df.loc[0,'reporting_month'])\n",
    "\n",
    "# Filter with column names ending with amt, amount, nbr_month\n",
    "df_amt = df.filter(regex = 'amt$|amount$|amount$|nbr_month$|nbr_months', axis='columns')\n",
    "\n",
    "# Describe the filtered dataframe\n",
    "df_des = df_amt.describe()\n",
    "\n",
    "# Write the describe to excel\n",
    "writer = pd.ExcelWriter(drive + reporting_month + '//' + reporting_month + '_' + 'report' + '-' + timestamp + '.xlsx')\n",
    "#df_des.to_excel(writer, index = False)\n",
    "df_des.to_excel(writer, sheet_name='family_stat')\n",
    "writer.save()"
   ]
  },
  {
   "cell_type": "code",
   "execution_count": 2,
   "metadata": {},
   "outputs": [
    {
     "data": {
      "text/plain": [
       "Index(['id', 'category', 'reporting_month', 'case_number', 'county_fips_code',\n",
       "       'stratum', 'zip_code', 'funding_stream', 'disposition', 'new_applicant',\n",
       "       'family_size', 'family_type', 'subsid_housing', 'medical_assist',\n",
       "       'food_stamps', 'food_stamps_amt', 'subsid_child_care',\n",
       "       'subsid_child_care_amt', 'child_support_amt', 'cash_resource_amt',\n",
       "       'cash & cash equivalents_amount', 'cash & cash equivalents_nbr_month',\n",
       "       'tanf child care_amount', 'tanf child care_children_covered',\n",
       "       'tanf child care_nbr_months', 'transportation_amount',\n",
       "       'transportation_nbr_months', 'transitional services_amount',\n",
       "       'transitional services_nbr_months', 'other_amount', 'other_nbr_months',\n",
       "       'reason for amount of reduction_sanction reduction_amount',\n",
       "       'reason for amount of reduction_work requirements sanction',\n",
       "       'reason for amount of reduction_Family Sanction for an Adult with No High School Diploma or Equivalent',\n",
       "       'reason for amount of reduction_Sanction for Teen Parent not Attending School',\n",
       "       'reason for amount of reduction_Non-Cooperation with Child Support',\n",
       "       'reason for amount of reduction_Failure to Comply with an Individual Responsibility Plan',\n",
       "       'reason for amount of reduction_Other Sanction',\n",
       "       'reason for amount of reduction_Recoupment of Prior Overpayment',\n",
       "       'other_other total reduction amount:', 'other_Family Cap',\n",
       "       'other_Reduction Based on Length of Receipt of Assistance',\n",
       "       'Other, Non-sanction', 'waiver_grps', 'exempt_time_limit',\n",
       "       'new_child_only_fam', 'worker_id', 'case_manager', 'area', 'created_by',\n",
       "       'updated_by', 'created_at', 'updated_at', 'ans_county', 'local_office'],\n",
       "      dtype='object')"
      ]
     },
     "execution_count": 2,
     "metadata": {},
     "output_type": "execute_result"
    }
   ],
   "source": [
    "df.columns"
   ]
  },
  {
   "cell_type": "code",
   "execution_count": 3,
   "metadata": {
    "scrolled": true
   },
   "outputs": [
    {
     "data": {
      "text/plain": [
       "No subsidized child care received                                                                                                                 2365\n",
       "Yes, receives child care funded entirely or in part with Federal funds (e.g., receives TANF, CCDF, SSBG, or other federally funded child care)       3\n",
       "Name: subsid_child_care, dtype: int64"
      ]
     },
     "execution_count": 3,
     "metadata": {},
     "output_type": "execute_result"
    }
   ],
   "source": [
    "df['subsid_child_care'].value_counts()"
   ]
  },
  {
   "cell_type": "code",
   "execution_count": 4,
   "metadata": {},
   "outputs": [
    {
     "data": {
      "text/plain": [
       "92"
      ]
     },
     "execution_count": 4,
     "metadata": {},
     "output_type": "execute_result"
    }
   ],
   "source": [
    "df['subsid_child_care_amt'].sum()"
   ]
  },
  {
   "cell_type": "code",
   "execution_count": 5,
   "metadata": {
    "scrolled": true
   },
   "outputs": [
    {
     "data": {
      "text/plain": [
       "0    2368\n",
       "Name: tanf child care_children_covered, dtype: int64"
      ]
     },
     "execution_count": 5,
     "metadata": {},
     "output_type": "execute_result"
    }
   ],
   "source": [
    "df['tanf child care_children_covered'].value_counts()"
   ]
  },
  {
   "cell_type": "code",
   "execution_count": 6,
   "metadata": {},
   "outputs": [
    {
     "data": {
      "text/plain": [
       "0"
      ]
     },
     "execution_count": 6,
     "metadata": {},
     "output_type": "execute_result"
    }
   ],
   "source": [
    "df['tanf child care_amount'].sum()"
   ]
  },
  {
   "cell_type": "code",
   "execution_count": 7,
   "metadata": {
    "scrolled": true
   },
   "outputs": [],
   "source": [
    "cat = df.drop(df_amt, axis='columns')\n",
    "#cat1 = cat.drop((cat.loc[:,'reporting_month':'stratum']),axis='columns')\n",
    "cat1 = cat.drop(['id','reporting_month','case_number','county_fips_code','stratum','disposition','worker_id',\n",
    "                 'case_manager','area','created_by','updated_by','created_at','updated_at','ans_county',\n",
    "                 'local_office','waiver_grps'], axis='columns')\n",
    "cat2 = cat1.drop(cat1.filter(regex = '^reason|^other'), axis='columns')"
   ]
  },
  {
   "cell_type": "code",
   "execution_count": 8,
   "metadata": {
    "scrolled": true
   },
   "outputs": [
    {
     "name": "stdout",
     "output_type": "stream",
     "text": [
      "No     2127\n",
      "Yes     241\n",
      "Name: reason for amount of reduction_work requirements sanction, dtype: int64\n",
      "---\n",
      "No    2368\n",
      "Name: reason for amount of reduction_Family Sanction for an Adult with No High School Diploma or Equivalent, dtype: int64\n",
      "---\n",
      "No    2368\n",
      "Name: reason for amount of reduction_Sanction for Teen Parent not Attending School, dtype: int64\n",
      "---\n",
      "No     2236\n",
      "Yes     132\n",
      "Name: reason for amount of reduction_Non-Cooperation with Child Support, dtype: int64\n",
      "---\n",
      "No    2368\n",
      "Name: reason for amount of reduction_Failure to Comply with an Individual Responsibility Plan, dtype: int64\n",
      "---\n",
      "No     2367\n",
      "Yes       1\n",
      "Name: reason for amount of reduction_Other Sanction, dtype: int64\n",
      "---\n",
      "0    2368\n",
      "Name: reason for amount of reduction_Recoupment of Prior Overpayment, dtype: int64\n",
      "---\n"
     ]
    }
   ],
   "source": [
    "reason_cat = cat1.filter(regex = '^reason', axis='columns')\n",
    "\n",
    "for c in reason_cat.columns:\n",
    "    print(reason_cat[c].value_counts())\n",
    "    print('---')\n"
   ]
  },
  {
   "cell_type": "code",
   "execution_count": 9,
   "metadata": {},
   "outputs": [],
   "source": [
    "#((df.filter(regex = '^reason'))).head(20)"
   ]
  },
  {
   "cell_type": "code",
   "execution_count": 10,
   "metadata": {
    "scrolled": false
   },
   "outputs": [
    {
     "name": "stdout",
     "output_type": "stream",
     "text": [
      "   category  count\n",
      "0       Tea   2105\n",
      "1  WorkPays    263\n",
      "---\n",
      "     zip_code  count\n",
      "0       72401     71\n",
      "1       72301     68\n",
      "2       71854     67\n",
      "3       72209     62\n",
      "4       72390     51\n",
      "5       72764     47\n",
      "6       72204     46\n",
      "7       72143     46\n",
      "8       72335     43\n",
      "9       72076     43\n",
      "10      71601     38\n",
      "11      72114     38\n",
      "12      72901     36\n",
      "13      71603     34\n",
      "14      72904     33\n",
      "15      72360     32\n",
      "16      72315     32\n",
      "17      72450     31\n",
      "18      72956     29\n",
      "19      71701     27\n",
      "20      72206     26\n",
      "21      72342     26\n",
      "22      72117     25\n",
      "23      71913     24\n",
      "24      71635     23\n",
      "25      72118     23\n",
      "26      72703     21\n",
      "27      72701     21\n",
      "28      71730     21\n",
      "29      72653     21\n",
      "..        ...    ...\n",
      "324     72581      1\n",
      "325     72579      1\n",
      "326     72513      1\n",
      "327     72503      1\n",
      "328     72479      1\n",
      "329     72469      1\n",
      "330     72467      1\n",
      "331     72933      1\n",
      "332     72941      1\n",
      "333     72955      1\n",
      "334     71960      1\n",
      "335     72170      1\n",
      "336     72168      1\n",
      "337     72136      1\n",
      "338     72124      1\n",
      "339     72102      1\n",
      "340     72072      1\n",
      "341     74115      1\n",
      "342     72030      1\n",
      "343     71866      1\n",
      "344     97539      1\n",
      "345     71846      1\n",
      "346     71838      1\n",
      "347     71834      1\n",
      "348     71754      1\n",
      "349     71720      1\n",
      "350     71664      1\n",
      "351     71660      1\n",
      "352     71652      1\n",
      "353     71842      1\n",
      "\n",
      "[354 rows x 2 columns]\n",
      "---\n",
      "                                      funding_stream  count\n",
      "0  Funded, in whole or in part, with Federal TANF...   2368\n",
      "---\n",
      "                       new_applicant  count\n",
      "0     Not newly-approved application   2340\n",
      "1  Yes, a newly-approved application     28\n",
      "---\n",
      "   family_size  count\n",
      "0            2    940\n",
      "1            1    583\n",
      "2            3    509\n",
      "3            4    222\n",
      "4            5     69\n",
      "5            6     31\n",
      "6            7     12\n",
      "7            9      1\n",
      "8           12      1\n",
      "---\n",
      "                                         family_type  count\n",
      "0  Family included only in overall work participa...   1154\n",
      "1            Family with no work-eligible individual   1150\n",
      "2  Two-Parent Family included in both the overall...     64\n",
      "---\n",
      "       subsid_housing  count\n",
      "0  No housing subsidy   2368\n",
      "---\n",
      "                           medical_assist  count\n",
      "0     Does not receive Medical Assistance   1590\n",
      "1   Yes, enrolled in Medicaid and/or CHIP    778\n",
      "---\n",
      "                           food_stamps  count\n",
      "0  Yes, receives food stamp assistance   1771\n",
      "1          Does not receive food stamp    597\n",
      "---\n",
      "                                   subsid_child_care  count\n",
      "0                  No subsidized child care received   2365\n",
      "1  Yes, receives child care funded entirely or in...      3\n",
      "---\n",
      "   tanf child care_children_covered  count\n",
      "0                                 0   2368\n",
      "---\n",
      "  Other, Non-sanction  count\n",
      "0                  No   2368\n",
      "---\n",
      "                                   exempt_time_limit  count\n",
      "0      Family is not exempt from Federal time limit.   1233\n",
      "1   Yes, family is exempt from accrual of months ...   1135\n",
      "---\n",
      "                 new_child_only_fam  count\n",
      "0   No, not a new child-only family   2357\n",
      "1      Yes, a new child-only family     11\n",
      "---\n"
     ]
    }
   ],
   "source": [
    "for c in cat2.columns:\n",
    "    print((cat2[c].value_counts().to_frame('count').rename_axis(c)).reset_index())\n",
    "    print('---')"
   ]
  },
  {
   "cell_type": "code",
   "execution_count": null,
   "metadata": {},
   "outputs": [],
   "source": []
  },
  {
   "cell_type": "code",
   "execution_count": null,
   "metadata": {},
   "outputs": [],
   "source": []
  },
  {
   "cell_type": "code",
   "execution_count": null,
   "metadata": {},
   "outputs": [],
   "source": []
  },
  {
   "cell_type": "code",
   "execution_count": null,
   "metadata": {},
   "outputs": [],
   "source": []
  },
  {
   "cell_type": "code",
   "execution_count": null,
   "metadata": {},
   "outputs": [],
   "source": []
  },
  {
   "cell_type": "code",
   "execution_count": null,
   "metadata": {},
   "outputs": [],
   "source": []
  }
 ],
 "metadata": {
  "kernelspec": {
   "display_name": "Python 3",
   "language": "python",
   "name": "python3"
  },
  "language_info": {
   "codemirror_mode": {
    "name": "ipython",
    "version": 3
   },
   "file_extension": ".py",
   "mimetype": "text/x-python",
   "name": "python",
   "nbconvert_exporter": "python",
   "pygments_lexer": "ipython3",
   "version": "3.6.4rc1"
  }
 },
 "nbformat": 4,
 "nbformat_minor": 2
}
