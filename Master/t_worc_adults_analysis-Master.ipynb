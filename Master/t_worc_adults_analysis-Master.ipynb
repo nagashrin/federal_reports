{
 "cells": [
  {
   "cell_type": "markdown",
   "metadata": {},
   "source": [
    "# T2: Adult Data Analysis_Master"
   ]
  },
  {
   "cell_type": "code",
   "execution_count": 1,
   "metadata": {},
   "outputs": [],
   "source": [
    "import pandas as pd\n",
    "import numpy as np\n",
    "import os\n",
    "import matplotlib.pyplot as plt\n",
    "plt.style.use('ggplot')\n",
    "%matplotlib inline"
   ]
  },
  {
   "cell_type": "code",
   "execution_count": 2,
   "metadata": {},
   "outputs": [],
   "source": [
    "adult = pd.read_excel('H://Current_Working_Folder//Reports Analytics//201905//201905-t_worc_adults-20191015_0909.xlsx')"
   ]
  },
  {
   "cell_type": "code",
   "execution_count": 3,
   "metadata": {},
   "outputs": [],
   "source": [
    "adult['dob'] = pd.to_datetime(adult['dob'].astype('str'), infer_datetime_format = True)\n",
    "adult['reporting_month'] = pd.to_datetime(adult['reporting_month'].apply(lambda x: f\"{x}01\").astype(str), infer_datetime_format=True)\n",
    "adult['age'] = np.floor((adult['reporting_month'] - adult['dob'])/np.timedelta64(1,'Y'))"
   ]
  },
  {
   "cell_type": "code",
   "execution_count": 4,
   "metadata": {},
   "outputs": [
    {
     "data": {
      "text/plain": [
       "Not applicable (e.g., not a work-eligible individual; person living in household and whose income or resources are counted in determining eligibility for or the amount of assistance for the family receiving assistance, but is not in the eligible family receiving assistance or noncustodial parent that the State opted to exclude in determining participation rate).                                                                                                                                                                                                                                                                  1150\n",
       " Required to participate, but not participating; and not subject to a work sanction for the reporting month.                                                                                                                                                                                                                                                                                                                                                                                                                                                                                                                                   432\n",
       "Required to participate and meeting minimum participation requirements                                                                                                                                                                                                                                                                                                                                                                                                                                                                                                                                                                         187\n",
       "Required to participate and participating, but not meeting minimum participation requirements.                                                                                                                                                                                                                                                                                                                                                                                                                                                                                                                                                 159\n",
       "Required to participate, but not participating; subject to sanction for refusing to participate in work activities for the reporting month; and subject to such a sanction for more than 3 months within the preceding 12-month period                                                                                                                                                                                                                                                                                                                                                                                                         126\n",
       "Disregarded from participation rate because both of the following apply: required to participate, but not participating; and subject to sanction for refusing to participate in work activities for the reporting month, but not subject to sanction for more than 3 months within the preceding 12-month period (Note: “subjected to a sanction” for refusing to participate in work activities means the State has actually imposed a penalty to reduce or terminate assistance. During a conciliation or notice period, before the State actually reduces or terminates the family’s grant, a family is not “subjected to a sanction.”)     122\n",
       " Deemed engaged in work -- parent or relative (who is the only parent or caretaker relative in the family) with child under age 6 and parent engaged in core work activities for at least 20 hours per week. 18 = Required to participate and participating, but not meeting minimum participation requirements                                                                                                                                                                                                                                                                                                                                 96\n",
       "Exempt, disabled (not using an extended definition under a State waiver)                                                                                                                                                                                                                                                                                                                                                                                                                                                                                                                                                                        87\n",
       "Exempt, other                                                                                                                                                                                                                                                                                                                                                                                                                                                                                                                                                                                                                                   69\n",
       "Exempt, under a federally recognized good cause domestic violence waiver                                                                                                                                                                                                                                                                                                                                                                                                                                                                                                                                                                         4\n",
       "Exempt, caring for a severely disabled child (not using an extended definition under a State waiver)                                                                                                                                                                                                                                                                                                                                                                                                                                                                                                                                             1\n",
       "Name: work_partic_status, dtype: int64"
      ]
     },
     "execution_count": 4,
     "metadata": {},
     "output_type": "execute_result"
    }
   ],
   "source": [
    "adult['work_partic_status'].value_counts()"
   ]
  },
  {
   "cell_type": "code",
   "execution_count": 5,
   "metadata": {},
   "outputs": [
    {
     "data": {
      "text/plain": [
       "count    2433.000000\n",
       "mean       37.693794\n",
       "std        13.662383\n",
       "min        18.000000\n",
       "25%        27.000000\n",
       "50%        34.000000\n",
       "75%        47.000000\n",
       "max        88.000000\n",
       "Name: age, dtype: float64"
      ]
     },
     "execution_count": 5,
     "metadata": {},
     "output_type": "execute_result"
    }
   ],
   "source": [
    "adult['age'].describe()"
   ]
  },
  {
   "cell_type": "code",
   "execution_count": 6,
   "metadata": {},
   "outputs": [
    {
     "data": {
      "text/plain": [
       "Single, never married       1534\n",
       "Married, living together     447\n",
       "Married, but separated       242\n",
       "Divorced                     171\n",
       "Widowed                       39\n",
       "Name: marital_status, dtype: int64"
      ]
     },
     "execution_count": 6,
     "metadata": {},
     "output_type": "execute_result"
    }
   ],
   "source": [
    "adult['marital_status'].value_counts()"
   ]
  },
  {
   "cell_type": "code",
   "execution_count": 7,
   "metadata": {},
   "outputs": [
    {
     "data": {
      "text/plain": [
       "0    2433\n",
       "Name: provid_child_care, dtype: int64"
      ]
     },
     "execution_count": 7,
     "metadata": {},
     "output_type": "execute_result"
    }
   ],
   "source": [
    "adult['provid_child_care'].value_counts()"
   ]
  },
  {
   "cell_type": "code",
   "execution_count": 8,
   "metadata": {},
   "outputs": [
    {
     "data": {
      "text/plain": [
       "Yes, a parent with a minor child in the family, but not used in two-parent participation rate    2305\n",
       "Yes, a parent with a minor child in the family and used in two-parent participation rate          128\n",
       "Name: parent_with_minor, dtype: int64"
      ]
     },
     "execution_count": 8,
     "metadata": {},
     "output_type": "execute_result"
    }
   ],
   "source": [
    "adult['parent_with_minor'].value_counts()"
   ]
  },
  {
   "cell_type": "markdown",
   "metadata": {},
   "source": [
    "4.5% (108)of total cases (2398) are 2 Parent cases <br>\n",
    "    \n",
    "\n",
    "95.5% (2290)of total cases are single parent cases"
   ]
  },
  {
   "cell_type": "code",
   "execution_count": null,
   "metadata": {},
   "outputs": [],
   "source": []
  },
  {
   "cell_type": "code",
   "execution_count": null,
   "metadata": {},
   "outputs": [],
   "source": []
  }
 ],
 "metadata": {
  "kernelspec": {
   "display_name": "Python 3",
   "language": "python",
   "name": "python3"
  },
  "language_info": {
   "codemirror_mode": {
    "name": "ipython",
    "version": 3
   },
   "file_extension": ".py",
   "mimetype": "text/x-python",
   "name": "python",
   "nbconvert_exporter": "python",
   "pygments_lexer": "ipython3",
   "version": "3.6.4rc1"
  }
 },
 "nbformat": 4,
 "nbformat_minor": 2
}
