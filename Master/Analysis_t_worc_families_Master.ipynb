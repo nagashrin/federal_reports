{
 "cells": [
  {
   "cell_type": "code",
   "execution_count": 1,
   "metadata": {
    "scrolled": true
   },
   "outputs": [],
   "source": [
    "import pandas as pd\n",
    "import numpy as np\n",
    "import time\n",
    "import os\n",
    "\n",
    "t = time.localtime()\n",
    "timestamp = time.strftime('%y%m%d-%H%M', t)\n",
    "\n",
    "# read excel\n",
    "df = pd.read_excel('H://Current_Working_Folder//Reports Analytics//201909//201909-t_worc_families-20191108_1418.xlsx')\n",
    "\n",
    "# assign path and reporitng month\n",
    "drive = 'H://Current_Working_Folder//Reports Analytics//'\n",
    "reporting_month = str(df.loc[0,'reporting_month'])\n",
    "\n",
    "# Filter with column names ending with amt, amount, nbr_month\n",
    "df_amt = df.filter(regex = 'amt$|amount$|amount$|nbr_month$|nbr_months', axis='columns')\n",
    "\n",
    "# Describe the filtered dataframe\n",
    "df_des = df_amt.describe()\n",
    "\n",
    "# Write the describe to excel\n",
    "writer = pd.ExcelWriter(drive + reporting_month + '//' + reporting_month + '_' + 'report' + '-' + timestamp + '.xlsx')\n",
    "#df_des.to_excel(writer, index = False)\n",
    "df_des.to_excel(writer, sheet_name='family_stat')\n",
    "writer.save()"
   ]
  },
  {
   "cell_type": "code",
   "execution_count": 2,
   "metadata": {},
   "outputs": [
    {
     "data": {
      "text/plain": [
       "Index(['id', 'category', 'reporting_month', 'case_number', 'county_fips_code',\n",
       "       'stratum', 'zip_code', 'funding_stream', 'disposition', 'new_applicant',\n",
       "       'family_size', 'family_type', 'subsid_housing', 'medical_assist',\n",
       "       'food_stamps', 'food_stamps_amt', 'subsid_child_care',\n",
       "       'subsid_child_care_amt', 'child_support_amt', 'cash_resource_amt',\n",
       "       'cash & cash equivalents_amount', 'cash & cash equivalents_nbr_month',\n",
       "       'tanf child care_amount', 'tanf child care_children_covered',\n",
       "       'tanf child care_nbr_months', 'transportation_amount',\n",
       "       'transportation_nbr_months', 'transitional services_amount',\n",
       "       'transitional services_nbr_months', 'other_amount', 'other_nbr_months',\n",
       "       'reason for amount of reduction_sanction reduction_amount',\n",
       "       'reason for amount of reduction_work requirements sanction',\n",
       "       'reason for amount of reduction_Family Sanction for an Adult with No High School Diploma or Equivalent',\n",
       "       'reason for amount of reduction_Sanction for Teen Parent not Attending School',\n",
       "       'reason for amount of reduction_Non-Cooperation with Child Support',\n",
       "       'reason for amount of reduction_Failure to Comply with an Individual Responsibility Plan',\n",
       "       'reason for amount of reduction_Other Sanction',\n",
       "       'reason for amount of reduction_Recoupment of Prior Overpayment',\n",
       "       'other_other total reduction amount:', 'other_Family Cap',\n",
       "       'other_Reduction Based on Length of Receipt of Assistance',\n",
       "       'Other, Non-sanction', 'waiver_grps', 'exempt_time_limit',\n",
       "       'new_child_only_fam', 'worker_id', 'case_manager', 'area', 'created_by',\n",
       "       'updated_by', 'created_at', 'updated_at', 'ans_county', 'local_office'],\n",
       "      dtype='object')"
      ]
     },
     "execution_count": 2,
     "metadata": {},
     "output_type": "execute_result"
    }
   ],
   "source": [
    "df.columns"
   ]
  },
  {
   "cell_type": "code",
   "execution_count": null,
   "metadata": {},
   "outputs": [],
   "source": [
    "df.shape"
   ]
  },
  {
   "cell_type": "code",
   "execution_count": 3,
   "metadata": {
    "scrolled": true
   },
   "outputs": [
    {
     "data": {
      "text/plain": [
       "No subsidized child care received    2358\n",
       "Name: subsid_child_care, dtype: int64"
      ]
     },
     "execution_count": 3,
     "metadata": {},
     "output_type": "execute_result"
    }
   ],
   "source": [
    "df['subsid_child_care'].value_counts()"
   ]
  },
  {
   "cell_type": "code",
   "execution_count": 4,
   "metadata": {},
   "outputs": [
    {
     "data": {
      "text/plain": [
       "0"
      ]
     },
     "execution_count": 4,
     "metadata": {},
     "output_type": "execute_result"
    }
   ],
   "source": [
    "df['subsid_child_care_amt'].sum()"
   ]
  },
  {
   "cell_type": "code",
   "execution_count": 5,
   "metadata": {
    "scrolled": true
   },
   "outputs": [
    {
     "data": {
      "text/plain": [
       "0    2358\n",
       "Name: tanf child care_children_covered, dtype: int64"
      ]
     },
     "execution_count": 5,
     "metadata": {},
     "output_type": "execute_result"
    }
   ],
   "source": [
    "df['tanf child care_children_covered'].value_counts()"
   ]
  },
  {
   "cell_type": "code",
   "execution_count": 6,
   "metadata": {},
   "outputs": [
    {
     "data": {
      "text/plain": [
       "0"
      ]
     },
     "execution_count": 6,
     "metadata": {},
     "output_type": "execute_result"
    }
   ],
   "source": [
    "df['tanf child care_amount'].sum()"
   ]
  },
  {
   "cell_type": "code",
   "execution_count": 7,
   "metadata": {
    "scrolled": true
   },
   "outputs": [],
   "source": [
    "cat = df.drop(df_amt, axis='columns')\n",
    "#cat1 = cat.drop((cat.loc[:,'reporting_month':'stratum']),axis='columns')\n",
    "cat1 = cat.drop(['id','reporting_month','case_number','county_fips_code','stratum','disposition','worker_id',\n",
    "                 'case_manager','area','created_by','updated_by','created_at','updated_at','ans_county',\n",
    "                 'local_office','waiver_grps'], axis='columns')\n",
    "cat2 = cat1.drop(cat1.filter(regex = '^reason|^other'), axis='columns')"
   ]
  },
  {
   "cell_type": "code",
   "execution_count": 8,
   "metadata": {
    "scrolled": true
   },
   "outputs": [
    {
     "name": "stdout",
     "output_type": "stream",
     "text": [
      "No     2166\n",
      "Yes     192\n",
      "Name: reason for amount of reduction_work requirements sanction, dtype: int64\n",
      "---\n",
      "No    2358\n",
      "Name: reason for amount of reduction_Family Sanction for an Adult with No High School Diploma or Equivalent, dtype: int64\n",
      "---\n",
      "No    2358\n",
      "Name: reason for amount of reduction_Sanction for Teen Parent not Attending School, dtype: int64\n",
      "---\n",
      "No     2255\n",
      "Yes     103\n",
      "Name: reason for amount of reduction_Non-Cooperation with Child Support, dtype: int64\n",
      "---\n",
      "No     2357\n",
      "Yes       1\n",
      "Name: reason for amount of reduction_Failure to Comply with an Individual Responsibility Plan, dtype: int64\n",
      "---\n",
      "No     2355\n",
      "Yes       3\n",
      "Name: reason for amount of reduction_Other Sanction, dtype: int64\n",
      "---\n",
      "0    2358\n",
      "Name: reason for amount of reduction_Recoupment of Prior Overpayment, dtype: int64\n",
      "---\n"
     ]
    }
   ],
   "source": [
    "reason_cat = cat1.filter(regex = '^reason', axis='columns')\n",
    "\n",
    "for c in reason_cat.columns:\n",
    "    print(reason_cat[c].value_counts())\n",
    "    print('---')\n"
   ]
  },
  {
   "cell_type": "code",
   "execution_count": 9,
   "metadata": {},
   "outputs": [],
   "source": [
    "#((df.filter(regex = '^reason'))).head(20)"
   ]
  },
  {
   "cell_type": "code",
   "execution_count": 10,
   "metadata": {
    "scrolled": false
   },
   "outputs": [
    {
     "name": "stdout",
     "output_type": "stream",
     "text": [
      "   category  count\n",
      "0       Tea   2103\n",
      "1  WorkPays    255\n",
      "---\n",
      "     zip_code  count\n",
      "0       71854     74\n",
      "1       72301     69\n",
      "2       72209     67\n",
      "3       72401     63\n",
      "4       72390     53\n",
      "5       72076     49\n",
      "6       72204     48\n",
      "7       72143     47\n",
      "8       72335     45\n",
      "9       71601     41\n",
      "10      72114     37\n",
      "11      72315     37\n",
      "12      72764     35\n",
      "13      72117     33\n",
      "14      71603     32\n",
      "15      72956     32\n",
      "16      72901     31\n",
      "17      72206     31\n",
      "18      72342     31\n",
      "19      72450     31\n",
      "20      72118     30\n",
      "21      72904     30\n",
      "22      72032     27\n",
      "23      72601     26\n",
      "24      72360     25\n",
      "25      71730     23\n",
      "26      72701     22\n",
      "27      72501     21\n",
      "28      71913     21\n",
      "29      71953     20\n",
      "..        ...    ...\n",
      "332     72072      1\n",
      "333     72415      1\n",
      "334     72413      1\n",
      "335     72080      1\n",
      "336     72954      1\n",
      "337     72383      1\n",
      "338     71658      1\n",
      "339     72102      1\n",
      "340     72106      1\n",
      "341     72732      1\n",
      "342     72469      1\n",
      "343     72024      1\n",
      "344     72940      1\n",
      "345     72950      1\n",
      "346     72651      1\n",
      "347     72639      1\n",
      "348     72010      1\n",
      "349     72623      1\n",
      "350     72619      1\n",
      "351     72611      1\n",
      "352     72944      1\n",
      "353     72583      1\n",
      "354     72581      1\n",
      "355     72579      1\n",
      "356     72565      1\n",
      "357     72946      1\n",
      "358     72014      1\n",
      "359     72523      1\n",
      "360     72503      1\n",
      "361     71677      1\n",
      "\n",
      "[362 rows x 2 columns]\n",
      "---\n",
      "                                      funding_stream  count\n",
      "0  Funded, in whole or in part, with Federal TANF...   2358\n",
      "---\n",
      "                       new_applicant  count\n",
      "0     Not newly-approved application   2331\n",
      "1  Yes, a newly-approved application     27\n",
      "---\n",
      "   family_size  count\n",
      "0            2    894\n",
      "1            1    579\n",
      "2            3    519\n",
      "3            4    240\n",
      "4            5     83\n",
      "5            6     31\n",
      "6            7     10\n",
      "7            9      1\n",
      "8            8      1\n",
      "---\n",
      "                                         family_type  count\n",
      "0  Family included only in overall work participa...   1176\n",
      "1            Family with no work-eligible individual   1122\n",
      "2  Two-Parent Family included in both the overall...     56\n",
      "3                                          Not found      4\n",
      "---\n",
      "       subsid_housing  count\n",
      "0  No housing subsidy   2358\n",
      "---\n",
      "                           medical_assist  count\n",
      "0     Does not receive Medical Assistance   1590\n",
      "1   Yes, enrolled in Medicaid and/or CHIP    768\n",
      "---\n",
      "                           food_stamps  count\n",
      "0  Yes, receives food stamp assistance   1814\n",
      "1          Does not receive food stamp    544\n",
      "---\n",
      "                   subsid_child_care  count\n",
      "0  No subsidized child care received   2358\n",
      "---\n",
      "   tanf child care_children_covered  count\n",
      "0                                 0   2358\n",
      "---\n",
      "  Other, Non-sanction  count\n",
      "0                  No   2358\n",
      "---\n",
      "                                   exempt_time_limit  count\n",
      "0      Family is not exempt from Federal time limit.   1247\n",
      "1   Yes, family is exempt from accrual of months ...   1111\n",
      "---\n",
      "                 new_child_only_fam  count\n",
      "0   No, not a new child-only family   2331\n",
      "1      Yes, a new child-only family     27\n",
      "---\n"
     ]
    }
   ],
   "source": [
    "for c in cat2.columns:\n",
    "    print((cat2[c].value_counts().to_frame('count').rename_axis(c)).reset_index())\n",
    "    print('---')"
   ]
  },
  {
   "cell_type": "code",
   "execution_count": null,
   "metadata": {},
   "outputs": [],
   "source": [
    "worc_fam = df\n",
    "fam_type = worc_fam.groupby(['category','family_type']).agg({'case_number' : 'nunique'}).rename({'case_number': 'case_count'}, axis='columns')#.reset_index()\n",
    "fam_type"
   ]
  },
  {
   "cell_type": "code",
   "execution_count": null,
   "metadata": {},
   "outputs": [],
   "source": []
  },
  {
   "cell_type": "code",
   "execution_count": null,
   "metadata": {},
   "outputs": [],
   "source": []
  },
  {
   "cell_type": "code",
   "execution_count": null,
   "metadata": {},
   "outputs": [],
   "source": []
  },
  {
   "cell_type": "code",
   "execution_count": null,
   "metadata": {},
   "outputs": [],
   "source": []
  },
  {
   "cell_type": "code",
   "execution_count": null,
   "metadata": {},
   "outputs": [],
   "source": []
  }
 ],
 "metadata": {
  "kernelspec": {
   "display_name": "Python 3",
   "language": "python",
   "name": "python3"
  },
  "language_info": {
   "codemirror_mode": {
    "name": "ipython",
    "version": 3
   },
   "file_extension": ".py",
   "mimetype": "text/x-python",
   "name": "python",
   "nbconvert_exporter": "python",
   "pygments_lexer": "ipython3",
   "version": "3.6.4rc1"
  }
 },
 "nbformat": 4,
 "nbformat_minor": 2
}
