{
 "cells": [
  {
   "cell_type": "markdown",
   "metadata": {},
   "source": [
    "# Section 2: Closed Cases Data"
   ]
  },
  {
   "cell_type": "markdown",
   "metadata": {},
   "source": [
    "## T4: Case Data\n",
    "### To find out total number of closed cases in each month of the quarter"
   ]
  },
  {
   "cell_type": "code",
   "execution_count": 1,
   "metadata": {},
   "outputs": [],
   "source": [
    "import pandas as pd\n",
    "import numpy as np\n",
    "\n",
    "qt4=pd.read_csv('Data/2018q4_sec2.txt')  \n",
    "qt4 = pd.DataFrame(qt4)\n",
    "\n",
    "# Name column with original data as raw\n",
    "qt4.columns = ['raw']\n",
    "\n",
    "# Columns based on Transmission Format Section 1\n",
    "qt4['record type'] = qt4['raw'].str.extract('(..)',expand = True)\n",
    "qt4['reporting month'] = qt4['raw'].str[2:8]\n",
    "qt4['case number'] = qt4['raw'].str[8:19]\n",
    "qt4['county fips code'] = qt4['raw'].str[19:22]\n",
    "qt4['stratum'] = qt4['raw'].str[22:24]\n",
    "qt4['zip code'] = qt4['raw'].str[24:29]\n",
    "qt4['disposition'] = qt4['raw'].str[29:30]\n",
    "qt4['reason for closure'] = qt4['raw'].str[30:32]\n",
    "qt4['receives subsidized housing'] = qt4['raw'].str[32:33]\n",
    "qt4['receives medical assistance'] = qt4['raw'].str[33:34]\n",
    "qt4['receives food stamps'] = qt4['raw'].str[34:35]\n",
    "qt4['reporting'] = qt4['raw'].str[2:8]\n",
    "qt4['receives subsidized child care'] = qt4['raw'].str[35:36]\n",
    "qt4['blanks'] = qt4['raw'].str[36:71]\n",
    "\n",
    "# Making a copy \n",
    "quarter = qt4.copy()\n",
    "\n",
    "# Total T4, T4 in the quarter\n",
    "t4t5 = quarter['record type'].value_counts()\n",
    "\n",
    "# Filter out T4:  Case Data\n",
    "quarter_t4 = quarter[quarter['record type'].str.contains('T4')]\n",
    "quarter_t4_breakdown = quarter_t4['reporting month'].value_counts()\n",
    "\n",
    "# Number of cases closed in each reporting month of the quarter\n",
    "closed = (quarter_t4['reporting month']).value_counts()\n",
    "\n",
    "print('Total number of T4 and T5 in section2: \\n%s\\n' %t4t5)\n",
    "print('Total number of cases closed in each month of the quarter: \\n%s' %closed)"
   ]
  },
  {
   "cell_type": "markdown",
   "metadata": {},
   "source": [
    "## T5: Person Data\n",
    "### To find out total number of teen parents in each month of the quarter"
   ]
  },
  {
   "cell_type": "code",
   "execution_count": 2,
   "metadata": {},
   "outputs": [],
   "source": [
    "import pandas as pd\n",
    "import numpy as np\n",
    "\n",
    "qt5=pd.read_csv('Data/2018q4_sec2.txt')  \n",
    "qt5 = pd.DataFrame(qt5)\n",
    "\n",
    "# Name column with original data as raw\n",
    "qt5.columns = ['raw']\n",
    "\n",
    "# Columns based on Transmission Format Section 1\n",
    "qt5['record type'] = qt4['raw'].str.extract('(..)',expand = True)\n",
    "qt5['reporting month'] = qt4['raw'].str[2:8]\n",
    "qt5['case number'] = qt4['raw'].str[8:19]\n",
    "qt5['family affiliation'] = qt4['raw'].str[19:20]\n",
    "qt5['dob'] = qt4['raw'].str[20:28]\n",
    "#qt5['dob year'] = qt4['raw'].str[20:24]\n",
    "#qt5['dob month'] = qt4['raw'].str[24:26]\n",
    "#qt5['dob day'] = qt4['raw'].str[26:28]\n",
    "qt5['social security'] = qt4['raw'].str[28:37]\n",
    "qt5['race/ethnicity Item 17A_Hispanic or latino'] = qt4['raw'].str[37:38]\n",
    "qt5['item 17B_american indian or alaska native'] = qt4['raw'].str[38:39]\n",
    "qt5['item 17C_asian'] = qt4['raw'].str[39:40]\n",
    "qt5['item 17D_black or african american'] = qt4['raw'].str[40:41]\n",
    "qt5['item 17E_native hawaiian or other pacific islander'] = qt4['raw'].str[41:42]\n",
    "qt5['item 17F_white'] = qt4['raw'].str[42_43]\n",
    "qt5['gender'] = qt4['raw'].str[43:44]\n",
    "qt5['receives disability benefits Item 19A_received federal disability insurance benefits under the OASDI program'] = qt4['raw'].str[44:45]\n",
    "qt5['item 19B_receives_beneifts based on federal disability status under non-ssa programs'] = qt4['raw'].str[45:46]\n",
    "qt5['item 19C_received aid t the permanently & totally disabled under title XIV-APDT'] = qt4['raw'].str[46:47]\n",
    "qt5['item 19D_received aid to the aged, blind, & disabled under title XVI-AABD'] = qt4['raw'].str[47:48]\n",
    "qt5['item 19E_received ssi under title XVI-SSI'] = qt4['raw'].str[48:49]\n",
    "qt5['marital status'] = qt4['raw'].str[49:50]\n",
    "qt5['relationship to head of household'] = qt4['raw'].str[50:52]\n",
    "qt5['parent with minor child in the family'] = qt4['raw'].str[52:53]\n",
    "qt5['needs of a pregnant woman'] = qt4['raw'].str[53:54]\n",
    "qt5['education level'] = qt4['raw'].str[54:56]\n",
    "qt5['citizenship/alienage'] = qt4['raw'].str[56:57]\n",
    "qt5['number of ocuntable months toward federal time limit'] = qt4['raw'].str[57:60]\n",
    "qt5['number of countable months remaining under state/tribe time limit'] = qt4['raw'].str[60:62]\n",
    "qt5['employment status'] = qt4['raw'].str[62:63]\n",
    "qt5['amount of earned income'] = qt4['raw'].str[63:67]\n",
    "qt5['amount of unearned income'] = qt4['raw'].str[67:71]\n",
    "\n",
    "# Making a copy \n",
    "quarter = qt5.copy()\n",
    "\n",
    "# Total T4, T5 in the quarter\n",
    "t4t5 = quarter['record type'].value_counts()\n",
    "\n",
    "# Filter out T5:  Case Data\n",
    "quarter_t5 = quarter[quarter['record type'].str.contains('T5')]\n",
    "\n",
    "# Convert columns reporting month and date of birth to date time format\n",
    "quarter_t5c = quarter_t5.copy()\n",
    "quarter_t5c['reporting month'] = pd.to_datetime(quarter_t5c['reporting month'] +'01') # Insert 01 as default day\n",
    "quarter_t5c['dob'] = pd.to_datetime(quarter_t5c['dob'])\n",
    "quarter_t5c['age'] = ((quarter_t5c['reporting month']) - (quarter_t5c['dob']))/np.timedelta64(1, 'Y') # Get the age values in years\n",
    "\n",
    "\n",
    "# Total teen parents\n",
    "teen_parent =  ((quarter_t5c['age'] < 18) & (quarter_t5c['parent with minor child in the family'] == 1)).values.sum()\n",
    "\n",
    "# Number of children in section2\n",
    "children = (quarter_t5c['age'] < 18.0).values.sum()\n",
    "\n",
    "\n",
    "print('Total Number of Teen Parents: %d'%teen_parent)\n",
    "print('Total children: %d' %children)\n"
   ]
  },
  {
   "cell_type": "code",
   "execution_count": null,
   "metadata": {},
   "outputs": [],
   "source": []
  },
  {
   "cell_type": "code",
   "execution_count": null,
   "metadata": {},
   "outputs": [],
   "source": []
  }
 ],
 "metadata": {
  "kernelspec": {
   "display_name": "Python 3",
   "language": "python",
   "name": "python3"
  },
  "language_info": {
   "codemirror_mode": {
    "name": "ipython",
    "version": 3
   },
   "file_extension": ".py",
   "mimetype": "text/x-python",
   "name": "python",
   "nbconvert_exporter": "python",
   "pygments_lexer": "ipython3",
   "version": "3.6.4rc1"
  }
 },
 "nbformat": 4,
 "nbformat_minor": 2
}
